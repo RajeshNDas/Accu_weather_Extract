{
 "cells": [
  {
   "cell_type": "code",
   "execution_count": 5,
   "id": "8b1edbdd",
   "metadata": {},
   "outputs": [],
   "source": [
    "from selenium import webdriver\n",
    "import time\n",
    "import pandas as pd\n",
    "from datetime import date"
   ]
  },
  {
   "cell_type": "code",
   "execution_count": null,
   "id": "19550e14",
   "metadata": {},
   "outputs": [],
   "source": [
    "chrome_browser=webdriver.Chrome(executable_path=r'C:\\Users\\IamRaj\\chromedriver_win32\\\\chromedriver.exe')\n",
    "chrome_browser.get(\"https://www.accuweather.com/en/in/kolkata/206690/february-weather/206690?year=2021\")\n",
    "time.sleep(15)"
   ]
  },
  {
   "cell_type": "code",
   "execution_count": null,
   "id": "a701f0ee",
   "metadata": {},
   "outputs": [],
   "source": [
    "column_names=['Date','Maximum Temp','Minimum Temp']\n",
    "df=pd.DataFrame(columns= column_names)"
   ]
  },
  {
   "cell_type": "code",
   "execution_count": null,
   "id": "2c06ca64",
   "metadata": {},
   "outputs": [],
   "source": []
  },
  {
   "cell_type": "code",
   "execution_count": null,
   "id": "7dcbd929",
   "metadata": {},
   "outputs": [],
   "source": []
  }
 ],
 "metadata": {
  "kernelspec": {
   "display_name": "Python 3",
   "language": "python",
   "name": "python3"
  },
  "language_info": {
   "codemirror_mode": {
    "name": "ipython",
    "version": 3
   },
   "file_extension": ".py",
   "mimetype": "text/x-python",
   "name": "python",
   "nbconvert_exporter": "python",
   "pygments_lexer": "ipython3",
   "version": "3.9.4"
  }
 },
 "nbformat": 4,
 "nbformat_minor": 5
}
